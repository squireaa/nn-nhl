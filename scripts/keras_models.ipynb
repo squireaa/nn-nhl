{
 "cells": [
  {
   "attachments": {},
   "cell_type": "markdown",
   "metadata": {},
   "source": [
    "# Prototype models with (familiar) Keras"
   ]
  },
  {
   "cell_type": "code",
   "execution_count": 9,
   "metadata": {},
   "outputs": [],
   "source": [
    "import numpy as np\n",
    "import pandas as pd\n",
    "from sklearn.model_selection import train_test_split\n",
    "from sklearn.preprocessing import StandardScaler\n",
    "from keras.models import Sequential\n",
    "from keras.layers import Dense\n",
    "from keras.layers import Flatten\n",
    "from keras.layers import Dropout\n",
    "from keras.optimizers import Adam"
   ]
  },
  {
   "cell_type": "code",
   "execution_count": 16,
   "metadata": {},
   "outputs": [],
   "source": [
    "def train_model(input_name:str, output_name:str) -> None:\n",
    "    # read data\n",
    "    df = pd.read_csv(input_name)\n",
    "    X = df.drop('Outcome', axis=1)\n",
    "    y = df['Outcome']\n",
    "\n",
    "    # convert data to arrays\n",
    "    X = np.array(X)\n",
    "    y = np.array(y)\n",
    "\n",
    "    # split data into the appropriate groups\n",
    "    X_train, X_test, y_train, y_test = train_test_split(X, y, test_size=0.2)\n",
    "\n",
    "    # scale X data\n",
    "    scaler = StandardScaler()\n",
    "    X_train = scaler.fit_transform(X_train)\n",
    "    X_test = scaler.transform(X_test)\n",
    "\n",
    "    # build layers\n",
    "    model = Sequential()\n",
    "    model.add(Flatten())\n",
    "    model.add(Dense(256, activation='relu'))\n",
    "    model.add(Dropout(0.1))\n",
    "    model.add(Dense(128, activation='relu'))\n",
    "    model.add(Dropout(0.1))\n",
    "    model.add(Dense(64, activation='relu'))\n",
    "    model.add(Dropout(0.1))\n",
    "    model.add(Dense(32, activation='relu'))\n",
    "    model.add(Dropout(0.1))\n",
    "    model.add(Dense(1, activation='linear'))\n",
    "\n",
    "    # define model with appropriate loss function and metric\n",
    "    model.compile(loss='binary_crossentropy', optimizer=Adam(learning_rate=0.001), metrics=['accuracy'])\n",
    "\n",
    "    # fit model and print accuracy\n",
    "    history = model.fit(X_train, y_train, epochs=25, batch_size=32, validation_data=(X_test, y_test))\n",
    "    print(model.evaluate(X_test, y_test))\n",
    "    model.save(output_name)"
   ]
  },
  {
   "cell_type": "code",
   "execution_count": 17,
   "metadata": {},
   "outputs": [
    {
     "name": "stdout",
     "output_type": "stream",
     "text": [
      "Epoch 1/25\n",
      "571/571 [==============================] - 2s 3ms/step - loss: 1.5749 - accuracy: 0.5145 - val_loss: 0.7455 - val_accuracy: 0.5196\n",
      "Epoch 2/25\n",
      "571/571 [==============================] - 1s 3ms/step - loss: 0.8717 - accuracy: 0.5204 - val_loss: 0.7160 - val_accuracy: 0.5284\n",
      "Epoch 3/25\n",
      "571/571 [==============================] - 1s 3ms/step - loss: 0.7606 - accuracy: 0.5341 - val_loss: 0.7264 - val_accuracy: 0.5360\n",
      "Epoch 4/25\n",
      "571/571 [==============================] - 1s 3ms/step - loss: 0.7447 - accuracy: 0.5398 - val_loss: 0.7079 - val_accuracy: 0.5371\n",
      "Epoch 5/25\n",
      "571/571 [==============================] - 2s 3ms/step - loss: 0.7329 - accuracy: 0.5471 - val_loss: 0.6981 - val_accuracy: 0.5483\n",
      "Epoch 6/25\n",
      "571/571 [==============================] - 2s 3ms/step - loss: 0.7326 - accuracy: 0.5457 - val_loss: 0.7226 - val_accuracy: 0.5303\n",
      "Epoch 7/25\n",
      "571/571 [==============================] - 2s 3ms/step - loss: 0.7255 - accuracy: 0.5329 - val_loss: 0.6851 - val_accuracy: 0.5619\n",
      "Epoch 8/25\n",
      "571/571 [==============================] - 2s 3ms/step - loss: 0.6959 - accuracy: 0.5613 - val_loss: 0.6827 - val_accuracy: 0.5910\n",
      "Epoch 9/25\n",
      "571/571 [==============================] - 1s 2ms/step - loss: 0.6847 - accuracy: 0.5817 - val_loss: 0.6809 - val_accuracy: 0.5868\n",
      "Epoch 10/25\n",
      "571/571 [==============================] - 1s 3ms/step - loss: 0.6734 - accuracy: 0.5956 - val_loss: 0.6812 - val_accuracy: 0.5846\n",
      "Epoch 11/25\n",
      "571/571 [==============================] - 1s 3ms/step - loss: 0.6670 - accuracy: 0.6065 - val_loss: 0.6722 - val_accuracy: 0.6008\n",
      "Epoch 12/25\n",
      "571/571 [==============================] - 1s 2ms/step - loss: 0.6636 - accuracy: 0.6082 - val_loss: 0.6778 - val_accuracy: 0.5971\n",
      "Epoch 13/25\n",
      "571/571 [==============================] - 1s 3ms/step - loss: 0.6562 - accuracy: 0.6192 - val_loss: 0.6638 - val_accuracy: 0.6028\n",
      "Epoch 14/25\n",
      "571/571 [==============================] - 1s 3ms/step - loss: 0.6615 - accuracy: 0.6125 - val_loss: 0.6674 - val_accuracy: 0.5960\n",
      "Epoch 15/25\n",
      "571/571 [==============================] - 1s 3ms/step - loss: 0.6629 - accuracy: 0.6262 - val_loss: 0.6660 - val_accuracy: 0.6041\n",
      "Epoch 16/25\n",
      "571/571 [==============================] - 1s 3ms/step - loss: 0.6759 - accuracy: 0.6087 - val_loss: 0.6599 - val_accuracy: 0.6140\n",
      "Epoch 17/25\n",
      "571/571 [==============================] - 1s 3ms/step - loss: 0.6758 - accuracy: 0.5900 - val_loss: 0.6698 - val_accuracy: 0.5995\n",
      "Epoch 18/25\n",
      "571/571 [==============================] - 2s 3ms/step - loss: 0.6535 - accuracy: 0.6249 - val_loss: 0.6684 - val_accuracy: 0.5905\n",
      "Epoch 19/25\n",
      "571/571 [==============================] - 2s 3ms/step - loss: 0.6644 - accuracy: 0.6152 - val_loss: 0.6859 - val_accuracy: 0.5520\n",
      "Epoch 20/25\n",
      "571/571 [==============================] - 2s 3ms/step - loss: 0.6506 - accuracy: 0.6255 - val_loss: 0.6613 - val_accuracy: 0.6004\n",
      "Epoch 21/25\n",
      "571/571 [==============================] - 1s 3ms/step - loss: 0.6420 - accuracy: 0.6502 - val_loss: 0.6550 - val_accuracy: 0.6238\n",
      "Epoch 22/25\n",
      "571/571 [==============================] - 1s 2ms/step - loss: 0.6499 - accuracy: 0.6492 - val_loss: 0.6597 - val_accuracy: 0.6078\n",
      "Epoch 23/25\n",
      "571/571 [==============================] - 1s 3ms/step - loss: 0.6558 - accuracy: 0.6257 - val_loss: 0.6572 - val_accuracy: 0.6129\n",
      "Epoch 24/25\n",
      "571/571 [==============================] - 1s 3ms/step - loss: 0.6559 - accuracy: 0.6481 - val_loss: 0.6679 - val_accuracy: 0.6243\n",
      "Epoch 25/25\n",
      "571/571 [==============================] - 1s 2ms/step - loss: 0.6525 - accuracy: 0.6294 - val_loss: 0.6565 - val_accuracy: 0.6155\n",
      "143/143 [==============================] - 0s 1ms/step - loss: 0.6565 - accuracy: 0.6155\n",
      "[0.6565327048301697, 0.6155025362968445]\n"
     ]
    },
    {
     "name": "stderr",
     "output_type": "stream",
     "text": [
      "C:\\Users\\Owner\\AppData\\Roaming\\Python\\Python311\\site-packages\\keras\\src\\engine\\training.py:3000: UserWarning: You are saving your model as an HDF5 file via `model.save()`. This file format is considered legacy. We recommend using instead the native Keras format, e.g. `model.save('my_model.keras')`.\n",
      "  saving_api.save_model(\n"
     ]
    }
   ],
   "source": [
    "train_model(\"csvs/ml_X.csv\", \"built_models/keras_ml.h5\")"
   ]
  },
  {
   "cell_type": "code",
   "execution_count": 12,
   "metadata": {},
   "outputs": [
    {
     "name": "stdout",
     "output_type": "stream",
     "text": [
      "Epoch 1/25\n",
      "571/571 [==============================] - 2s 3ms/step - loss: 2.4835 - accuracy: 0.5003 - val_loss: 0.7970 - val_accuracy: 0.5195\n",
      "Epoch 2/25\n",
      "571/571 [==============================] - 1s 2ms/step - loss: 1.0482 - accuracy: 0.5054 - val_loss: 0.7378 - val_accuracy: 0.5171\n",
      "Epoch 3/25\n",
      "571/571 [==============================] - 1s 2ms/step - loss: 1.0999 - accuracy: 0.5141 - val_loss: 0.7693 - val_accuracy: 0.5256\n",
      "Epoch 4/25\n",
      "571/571 [==============================] - 1s 2ms/step - loss: 0.8395 - accuracy: 0.5035 - val_loss: 0.7323 - val_accuracy: 0.5180\n",
      "Epoch 5/25\n",
      "571/571 [==============================] - 1s 2ms/step - loss: 0.7653 - accuracy: 0.5066 - val_loss: 0.7203 - val_accuracy: 0.5201\n",
      "Epoch 6/25\n",
      "571/571 [==============================] - 1s 2ms/step - loss: 0.7493 - accuracy: 0.5075 - val_loss: 0.7103 - val_accuracy: 0.5173\n",
      "Epoch 7/25\n",
      "571/571 [==============================] - 1s 2ms/step - loss: 0.7460 - accuracy: 0.5075 - val_loss: 0.7329 - val_accuracy: 0.5274\n",
      "Epoch 8/25\n",
      "571/571 [==============================] - 1s 2ms/step - loss: 0.7360 - accuracy: 0.5066 - val_loss: 0.7157 - val_accuracy: 0.5212\n",
      "Epoch 9/25\n",
      "571/571 [==============================] - 1s 2ms/step - loss: 0.7256 - accuracy: 0.5126 - val_loss: 0.7066 - val_accuracy: 0.5101\n",
      "Epoch 10/25\n",
      "571/571 [==============================] - 1s 2ms/step - loss: 0.7335 - accuracy: 0.5061 - val_loss: 0.7139 - val_accuracy: 0.5210\n",
      "Epoch 11/25\n",
      "571/571 [==============================] - 1s 2ms/step - loss: 0.7205 - accuracy: 0.5117 - val_loss: 0.7053 - val_accuracy: 0.4963\n",
      "Epoch 12/25\n",
      "571/571 [==============================] - 1s 2ms/step - loss: 0.7228 - accuracy: 0.5143 - val_loss: 0.7058 - val_accuracy: 0.5042\n",
      "Epoch 13/25\n",
      "571/571 [==============================] - 1s 2ms/step - loss: 0.7069 - accuracy: 0.5142 - val_loss: 0.7006 - val_accuracy: 0.5088\n",
      "Epoch 14/25\n",
      "571/571 [==============================] - 1s 2ms/step - loss: 0.7007 - accuracy: 0.5157 - val_loss: 0.7000 - val_accuracy: 0.5125\n",
      "Epoch 15/25\n",
      "571/571 [==============================] - 1s 2ms/step - loss: 0.6999 - accuracy: 0.5164 - val_loss: 0.6996 - val_accuracy: 0.5059\n",
      "Epoch 16/25\n",
      "571/571 [==============================] - 1s 2ms/step - loss: 0.6977 - accuracy: 0.5100 - val_loss: 0.6994 - val_accuracy: 0.5074\n",
      "Epoch 17/25\n",
      "571/571 [==============================] - 1s 2ms/step - loss: 0.6966 - accuracy: 0.5102 - val_loss: 0.6982 - val_accuracy: 0.4945\n",
      "Epoch 18/25\n",
      "571/571 [==============================] - 1s 2ms/step - loss: 0.6955 - accuracy: 0.5204 - val_loss: 0.6983 - val_accuracy: 0.5265\n",
      "Epoch 19/25\n",
      "571/571 [==============================] - 1s 2ms/step - loss: 0.6941 - accuracy: 0.5163 - val_loss: 0.6959 - val_accuracy: 0.5245\n",
      "Epoch 20/25\n",
      "571/571 [==============================] - 1s 2ms/step - loss: 0.6944 - accuracy: 0.5157 - val_loss: 0.6956 - val_accuracy: 0.5162\n",
      "Epoch 21/25\n",
      "571/571 [==============================] - 1s 2ms/step - loss: 0.6937 - accuracy: 0.5204 - val_loss: 0.6959 - val_accuracy: 0.5184\n",
      "Epoch 22/25\n",
      "571/571 [==============================] - 1s 2ms/step - loss: 0.6937 - accuracy: 0.5182 - val_loss: 0.6937 - val_accuracy: 0.5258\n",
      "Epoch 23/25\n",
      "571/571 [==============================] - 1s 2ms/step - loss: 0.6938 - accuracy: 0.5160 - val_loss: 0.6957 - val_accuracy: 0.5232\n",
      "Epoch 24/25\n",
      "571/571 [==============================] - 1s 2ms/step - loss: 0.6930 - accuracy: 0.5194 - val_loss: 0.6942 - val_accuracy: 0.5230\n",
      "Epoch 25/25\n",
      "571/571 [==============================] - 1s 2ms/step - loss: 0.6935 - accuracy: 0.5185 - val_loss: 0.6967 - val_accuracy: 0.4742\n",
      "143/143 [==============================] - 0s 1ms/step - loss: 0.6967 - accuracy: 0.4742\n",
      "[0.6967471837997437, 0.47415679693222046]\n"
     ]
    },
    {
     "name": "stderr",
     "output_type": "stream",
     "text": [
      "C:\\Users\\Owner\\AppData\\Roaming\\Python\\Python311\\site-packages\\keras\\src\\engine\\training.py:3000: UserWarning: You are saving your model as an HDF5 file via `model.save()`. This file format is considered legacy. We recommend using instead the native Keras format, e.g. `model.save('my_model.keras')`.\n",
      "  saving_api.save_model(\n"
     ]
    }
   ],
   "source": [
    "train_model(\"csvs/ou_X.csv\", \"built_models/keras_ou.h5\")"
   ]
  },
  {
   "cell_type": "code",
   "execution_count": 13,
   "metadata": {},
   "outputs": [
    {
     "name": "stdout",
     "output_type": "stream",
     "text": [
      "Epoch 1/25\n",
      "286/286 [==============================] - 2s 3ms/step - loss: 1.3791 - accuracy: 0.5106 - val_loss: 0.7356 - val_accuracy: 0.5153\n",
      "Epoch 2/25\n",
      "286/286 [==============================] - 1s 2ms/step - loss: 0.8346 - accuracy: 0.5252 - val_loss: 1.2898 - val_accuracy: 0.5228\n",
      "Epoch 3/25\n",
      "286/286 [==============================] - 1s 2ms/step - loss: 0.9514 - accuracy: 0.5034 - val_loss: 0.7699 - val_accuracy: 0.4952\n",
      "Epoch 4/25\n",
      "286/286 [==============================] - 1s 3ms/step - loss: 0.8251 - accuracy: 0.5197 - val_loss: 0.7452 - val_accuracy: 0.5105\n",
      "Epoch 5/25\n",
      "286/286 [==============================] - 1s 3ms/step - loss: 0.7847 - accuracy: 0.5238 - val_loss: 0.7209 - val_accuracy: 0.5293\n",
      "Epoch 6/25\n",
      "286/286 [==============================] - 1s 2ms/step - loss: 0.7669 - accuracy: 0.5276 - val_loss: 0.7205 - val_accuracy: 0.5035\n",
      "Epoch 7/25\n",
      "286/286 [==============================] - 1s 2ms/step - loss: 0.7263 - accuracy: 0.5464 - val_loss: 0.7027 - val_accuracy: 0.5109\n",
      "Epoch 8/25\n",
      "286/286 [==============================] - 1s 3ms/step - loss: 0.7064 - accuracy: 0.5584 - val_loss: 0.6870 - val_accuracy: 0.5477\n",
      "Epoch 9/25\n",
      "286/286 [==============================] - 1s 2ms/step - loss: 0.6892 - accuracy: 0.5641 - val_loss: 0.6903 - val_accuracy: 0.5280\n",
      "Epoch 10/25\n",
      "286/286 [==============================] - 1s 2ms/step - loss: 0.6958 - accuracy: 0.5703 - val_loss: 0.6903 - val_accuracy: 0.5477\n",
      "Epoch 11/25\n",
      "286/286 [==============================] - 1s 3ms/step - loss: 0.6771 - accuracy: 0.6011 - val_loss: 0.6881 - val_accuracy: 0.5525\n",
      "Epoch 12/25\n",
      "286/286 [==============================] - 1s 2ms/step - loss: 0.6666 - accuracy: 0.6129 - val_loss: 0.6817 - val_accuracy: 0.5595\n",
      "Epoch 13/25\n",
      "286/286 [==============================] - 1s 2ms/step - loss: 0.6673 - accuracy: 0.6024 - val_loss: 0.6835 - val_accuracy: 0.5797\n",
      "Epoch 14/25\n",
      "286/286 [==============================] - 1s 2ms/step - loss: 0.6632 - accuracy: 0.6081 - val_loss: 0.6916 - val_accuracy: 0.5845\n",
      "Epoch 15/25\n",
      "286/286 [==============================] - 1s 2ms/step - loss: 0.6779 - accuracy: 0.6048 - val_loss: 0.6782 - val_accuracy: 0.5749\n",
      "Epoch 16/25\n",
      "286/286 [==============================] - 1s 3ms/step - loss: 0.7005 - accuracy: 0.5330 - val_loss: 0.6829 - val_accuracy: 0.5639\n",
      "Epoch 17/25\n",
      "286/286 [==============================] - 1s 2ms/step - loss: 0.6835 - accuracy: 0.5734 - val_loss: 0.6798 - val_accuracy: 0.5880\n",
      "Epoch 18/25\n",
      "286/286 [==============================] - 1s 2ms/step - loss: 0.6753 - accuracy: 0.5837 - val_loss: 0.6753 - val_accuracy: 0.5784\n",
      "Epoch 19/25\n",
      "286/286 [==============================] - 1s 2ms/step - loss: 0.6615 - accuracy: 0.6090 - val_loss: 0.6642 - val_accuracy: 0.6055\n",
      "Epoch 20/25\n",
      "286/286 [==============================] - 1s 2ms/step - loss: 0.6583 - accuracy: 0.6198 - val_loss: 0.6753 - val_accuracy: 0.6046\n",
      "Epoch 21/25\n",
      "286/286 [==============================] - 1s 3ms/step - loss: 0.6516 - accuracy: 0.6313 - val_loss: 0.6719 - val_accuracy: 0.6068\n",
      "Epoch 22/25\n",
      "286/286 [==============================] - 1s 2ms/step - loss: 0.6393 - accuracy: 0.6350 - val_loss: 0.6798 - val_accuracy: 0.5968\n",
      "Epoch 23/25\n",
      "286/286 [==============================] - 1s 2ms/step - loss: 0.6423 - accuracy: 0.6422 - val_loss: 0.6856 - val_accuracy: 0.5854\n",
      "Epoch 24/25\n",
      "286/286 [==============================] - 1s 2ms/step - loss: 0.6882 - accuracy: 0.6198 - val_loss: 0.7157 - val_accuracy: 0.5333\n",
      "Epoch 25/25\n",
      "286/286 [==============================] - 1s 2ms/step - loss: 0.6968 - accuracy: 0.5849 - val_loss: 0.6838 - val_accuracy: 0.5801\n",
      "72/72 [==============================] - 0s 1ms/step - loss: 0.6838 - accuracy: 0.5801\n",
      "[0.6838371157646179, 0.5801225900650024]\n"
     ]
    },
    {
     "name": "stderr",
     "output_type": "stream",
     "text": [
      "C:\\Users\\Owner\\AppData\\Roaming\\Python\\Python311\\site-packages\\keras\\src\\engine\\training.py:3000: UserWarning: You are saving your model as an HDF5 file via `model.save()`. This file format is considered legacy. We recommend using instead the native Keras format, e.g. `model.save('my_model.keras')`.\n",
      "  saving_api.save_model(\n"
     ]
    }
   ],
   "source": [
    "train_model(\"csvs/pl_X.csv\", \"built_models/keras_pl.h5\")"
   ]
  }
 ],
 "metadata": {
  "kernelspec": {
   "display_name": "Python 3",
   "language": "python",
   "name": "python3"
  },
  "language_info": {
   "codemirror_mode": {
    "name": "ipython",
    "version": 3
   },
   "file_extension": ".py",
   "mimetype": "text/x-python",
   "name": "python",
   "nbconvert_exporter": "python",
   "pygments_lexer": "ipython3",
   "version": "3.11.3"
  },
  "orig_nbformat": 4
 },
 "nbformat": 4,
 "nbformat_minor": 2
}
