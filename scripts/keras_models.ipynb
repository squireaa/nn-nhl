{
 "cells": [
  {
   "attachments": {},
   "cell_type": "markdown",
   "metadata": {},
   "source": [
    "# Prototype models with (familiar) Keras"
   ]
  },
  {
   "cell_type": "code",
   "execution_count": 6,
   "metadata": {},
   "outputs": [],
   "source": [
    "import numpy as np\n",
    "import pandas as pd\n",
    "from sklearn.model_selection import train_test_split\n",
    "from sklearn.preprocessing import StandardScaler\n",
    "from keras.models import Sequential\n",
    "from keras.layers import Dense\n",
    "from keras.layers import Flatten\n",
    "from keras.layers import Dropout\n",
    "from keras.optimizers import Adam"
   ]
  },
  {
   "cell_type": "code",
   "execution_count": 11,
   "metadata": {},
   "outputs": [],
   "source": [
    "def train_model(input_name:str, output_name:str) -> None:\n",
    "    # read data\n",
    "    df = pd.read_csv(input_name)\n",
    "    X = df.drop('Outcome', axis=1)\n",
    "    y = df['Outcome']\n",
    "\n",
    "    # convert data to arrays\n",
    "    X = np.array(X)\n",
    "    y = np.array(y)\n",
    "\n",
    "    # split data into the appropriate groups\n",
    "    X_train, X_test, y_train, y_test = train_test_split(X, y, test_size=0.2)\n",
    "\n",
    "    # scale X data\n",
    "    scaler = StandardScaler()\n",
    "    X_train = scaler.fit_transform(X_train)\n",
    "    X_test = scaler.transform(X_test)\n",
    "\n",
    "    # build layers\n",
    "    model = Sequential()\n",
    "    model.add(Flatten())\n",
    "    model.add(Dense(256, activation='relu'))\n",
    "    model.add(Dropout(0.1))\n",
    "    model.add(Dense(128, activation='relu'))\n",
    "    model.add(Dropout(0.1))\n",
    "    model.add(Dense(64, activation='relu'))\n",
    "    model.add(Dropout(0.1))\n",
    "    model.add(Dense(32, activation='relu'))\n",
    "    model.add(Dropout(0.1))\n",
    "    model.add(Dense(1, activation='linear'))\n",
    "\n",
    "    # define model with appropriate loss function and metric\n",
    "    model.compile(loss='binary_crossentropy', optimizer=Adam(learning_rate=0.001), metrics=['accuracy'])\n",
    "\n",
    "    # fit model and print accuracy\n",
    "    history = model.fit(X_train, y_train, epochs=15, batch_size=32, validation_data=(X_test, y_test))\n",
    "    print(model.evaluate(X_test, y_test))\n",
    "    model.save(output_name)"
   ]
  },
  {
   "cell_type": "code",
   "execution_count": 12,
   "metadata": {},
   "outputs": [
    {
     "name": "stdout",
     "output_type": "stream",
     "text": [
      "Epoch 1/15\n",
      "571/571 [==============================] - 3s 3ms/step - loss: 1.4562 - accuracy: 0.5122 - val_loss: 0.7592 - val_accuracy: 0.5021\n",
      "Epoch 2/15\n",
      "571/571 [==============================] - 2s 3ms/step - loss: 0.8235 - accuracy: 0.5333 - val_loss: 0.7422 - val_accuracy: 0.5071\n",
      "Epoch 3/15\n",
      "571/571 [==============================] - 1s 3ms/step - loss: 0.7432 - accuracy: 0.5438 - val_loss: 0.7092 - val_accuracy: 0.5290\n",
      "Epoch 4/15\n",
      "571/571 [==============================] - 1s 3ms/step - loss: 0.7294 - accuracy: 0.5582 - val_loss: 0.7098 - val_accuracy: 0.5459\n",
      "Epoch 5/15\n",
      "571/571 [==============================] - 2s 3ms/step - loss: 0.7146 - accuracy: 0.5633 - val_loss: 0.6877 - val_accuracy: 0.5481\n",
      "Epoch 6/15\n",
      "571/571 [==============================] - 1s 3ms/step - loss: 0.6943 - accuracy: 0.5852 - val_loss: 0.6872 - val_accuracy: 0.5566\n",
      "Epoch 7/15\n",
      "571/571 [==============================] - 1s 2ms/step - loss: 0.6902 - accuracy: 0.5857 - val_loss: 0.6816 - val_accuracy: 0.5667\n",
      "Epoch 8/15\n",
      "571/571 [==============================] - 1s 3ms/step - loss: 0.6696 - accuracy: 0.6086 - val_loss: 0.6667 - val_accuracy: 0.5901\n",
      "Epoch 9/15\n",
      "571/571 [==============================] - 1s 2ms/step - loss: 0.6758 - accuracy: 0.5901 - val_loss: 0.6938 - val_accuracy: 0.5338\n",
      "Epoch 10/15\n",
      "571/571 [==============================] - 1s 3ms/step - loss: 0.6739 - accuracy: 0.6011 - val_loss: 0.8095 - val_accuracy: 0.4966\n",
      "Epoch 11/15\n",
      "571/571 [==============================] - 1s 2ms/step - loss: 0.7068 - accuracy: 0.5742 - val_loss: 0.6762 - val_accuracy: 0.5767\n",
      "Epoch 12/15\n",
      "571/571 [==============================] - 1s 2ms/step - loss: 0.6699 - accuracy: 0.6016 - val_loss: 0.6643 - val_accuracy: 0.6052\n",
      "Epoch 13/15\n",
      "571/571 [==============================] - 2s 3ms/step - loss: 0.7011 - accuracy: 0.5864 - val_loss: 0.6747 - val_accuracy: 0.5831\n",
      "Epoch 14/15\n",
      "571/571 [==============================] - 1s 3ms/step - loss: 0.6707 - accuracy: 0.5963 - val_loss: 0.6719 - val_accuracy: 0.5816\n",
      "Epoch 15/15\n",
      "571/571 [==============================] - 1s 3ms/step - loss: 0.6623 - accuracy: 0.6112 - val_loss: 0.6652 - val_accuracy: 0.6013\n",
      "143/143 [==============================] - 0s 1ms/step - loss: 0.6652 - accuracy: 0.6013\n",
      "[0.6651594042778015, 0.6012699604034424]\n"
     ]
    },
    {
     "name": "stderr",
     "output_type": "stream",
     "text": [
      "C:\\Users\\Owner\\AppData\\Roaming\\Python\\Python311\\site-packages\\keras\\src\\engine\\training.py:3000: UserWarning: You are saving your model as an HDF5 file via `model.save()`. This file format is considered legacy. We recommend using instead the native Keras format, e.g. `model.save('my_model.keras')`.\n",
      "  saving_api.save_model(\n"
     ]
    }
   ],
   "source": [
    "train_model(\"csvs/ml_X.csv\", \"built_models/keras_ml.h5\")"
   ]
  },
  {
   "cell_type": "code",
   "execution_count": 13,
   "metadata": {},
   "outputs": [
    {
     "name": "stdout",
     "output_type": "stream",
     "text": [
      "Epoch 1/15\n",
      "571/571 [==============================] - 3s 3ms/step - loss: 1.5940 - accuracy: 0.5015 - val_loss: 0.7587 - val_accuracy: 0.5276\n",
      "Epoch 2/15\n",
      "571/571 [==============================] - 2s 3ms/step - loss: 0.8150 - accuracy: 0.5047 - val_loss: 0.7313 - val_accuracy: 0.5245\n",
      "Epoch 3/15\n",
      "571/571 [==============================] - 2s 3ms/step - loss: 0.7710 - accuracy: 0.5100 - val_loss: 0.7252 - val_accuracy: 0.5177\n",
      "Epoch 4/15\n",
      "571/571 [==============================] - 2s 3ms/step - loss: 0.7482 - accuracy: 0.5073 - val_loss: 0.7204 - val_accuracy: 0.5293\n",
      "Epoch 5/15\n",
      "571/571 [==============================] - 1s 3ms/step - loss: 0.7355 - accuracy: 0.5001 - val_loss: 0.7208 - val_accuracy: 0.5293\n",
      "Epoch 6/15\n",
      "571/571 [==============================] - 2s 3ms/step - loss: 0.7367 - accuracy: 0.5071 - val_loss: 0.7138 - val_accuracy: 0.5184\n",
      "Epoch 7/15\n",
      "571/571 [==============================] - 1s 3ms/step - loss: 0.7171 - accuracy: 0.5054 - val_loss: 0.7101 - val_accuracy: 0.4739\n",
      "Epoch 8/15\n",
      "571/571 [==============================] - 2s 3ms/step - loss: 0.7082 - accuracy: 0.5048 - val_loss: 0.7015 - val_accuracy: 0.5283\n",
      "Epoch 9/15\n",
      "571/571 [==============================] - 2s 3ms/step - loss: 0.7042 - accuracy: 0.5097 - val_loss: 0.6995 - val_accuracy: 0.5088\n",
      "Epoch 10/15\n",
      "571/571 [==============================] - 2s 3ms/step - loss: 0.7006 - accuracy: 0.5123 - val_loss: 0.7002 - val_accuracy: 0.4893\n",
      "Epoch 11/15\n",
      "571/571 [==============================] - 2s 3ms/step - loss: 0.7032 - accuracy: 0.5135 - val_loss: 0.6965 - val_accuracy: 0.5004\n",
      "Epoch 12/15\n",
      "571/571 [==============================] - 2s 3ms/step - loss: 0.7019 - accuracy: 0.5086 - val_loss: 0.6953 - val_accuracy: 0.5350\n",
      "Epoch 13/15\n",
      "571/571 [==============================] - 2s 3ms/step - loss: 0.7017 - accuracy: 0.5027 - val_loss: 0.6935 - val_accuracy: 0.5315\n",
      "Epoch 14/15\n",
      "571/571 [==============================] - 2s 3ms/step - loss: 0.6990 - accuracy: 0.5120 - val_loss: 0.6953 - val_accuracy: 0.5107\n",
      "Epoch 15/15\n",
      "571/571 [==============================] - 2s 3ms/step - loss: 0.6977 - accuracy: 0.5071 - val_loss: 0.6941 - val_accuracy: 0.5320\n",
      "143/143 [==============================] - 0s 1ms/step - loss: 0.6941 - accuracy: 0.5320\n",
      "[0.6941379308700562, 0.5319754481315613]\n"
     ]
    },
    {
     "name": "stderr",
     "output_type": "stream",
     "text": [
      "C:\\Users\\Owner\\AppData\\Roaming\\Python\\Python311\\site-packages\\keras\\src\\engine\\training.py:3000: UserWarning: You are saving your model as an HDF5 file via `model.save()`. This file format is considered legacy. We recommend using instead the native Keras format, e.g. `model.save('my_model.keras')`.\n",
      "  saving_api.save_model(\n"
     ]
    }
   ],
   "source": [
    "train_model(\"csvs/ou_X.csv\", \"built_models/keras_ou.h5\")"
   ]
  },
  {
   "cell_type": "code",
   "execution_count": 15,
   "metadata": {},
   "outputs": [
    {
     "name": "stdout",
     "output_type": "stream",
     "text": [
      "Epoch 1/15\n",
      "286/286 [==============================] - 2s 3ms/step - loss: 1.3159 - accuracy: 0.5057 - val_loss: 0.7524 - val_accuracy: 0.5144\n",
      "Epoch 2/15\n",
      "286/286 [==============================] - 1s 3ms/step - loss: 0.9359 - accuracy: 0.5168 - val_loss: 0.9254 - val_accuracy: 0.5131\n",
      "Epoch 3/15\n",
      "286/286 [==============================] - 1s 3ms/step - loss: 0.8610 - accuracy: 0.5162 - val_loss: 0.7452 - val_accuracy: 0.5197\n",
      "Epoch 4/15\n",
      "286/286 [==============================] - 1s 3ms/step - loss: 0.7768 - accuracy: 0.5273 - val_loss: 0.7143 - val_accuracy: 0.5236\n",
      "Epoch 5/15\n",
      "286/286 [==============================] - 1s 3ms/step - loss: 0.7597 - accuracy: 0.5314 - val_loss: 0.7143 - val_accuracy: 0.5158\n",
      "Epoch 6/15\n",
      "286/286 [==============================] - 1s 3ms/step - loss: 0.7221 - accuracy: 0.5509 - val_loss: 0.6906 - val_accuracy: 0.5609\n",
      "Epoch 7/15\n",
      "286/286 [==============================] - 1s 3ms/step - loss: 0.7496 - accuracy: 0.5362 - val_loss: 0.7294 - val_accuracy: 0.5206\n",
      "Epoch 8/15\n",
      "286/286 [==============================] - 1s 3ms/step - loss: 0.7546 - accuracy: 0.5347 - val_loss: 0.6972 - val_accuracy: 0.5412\n",
      "Epoch 9/15\n",
      "286/286 [==============================] - 1s 3ms/step - loss: 0.7078 - accuracy: 0.5556 - val_loss: 0.6948 - val_accuracy: 0.5429\n",
      "Epoch 10/15\n",
      "286/286 [==============================] - 1s 3ms/step - loss: 0.6824 - accuracy: 0.5798 - val_loss: 0.6736 - val_accuracy: 0.5985\n",
      "Epoch 11/15\n",
      "286/286 [==============================] - 1s 3ms/step - loss: 0.7106 - accuracy: 0.5770 - val_loss: 0.6882 - val_accuracy: 0.5521\n",
      "Epoch 12/15\n",
      "286/286 [==============================] - 1s 3ms/step - loss: 0.6789 - accuracy: 0.5843 - val_loss: 0.6775 - val_accuracy: 0.5845\n",
      "Epoch 13/15\n",
      "286/286 [==============================] - 1s 3ms/step - loss: 0.6784 - accuracy: 0.5930 - val_loss: 0.7100 - val_accuracy: 0.5276\n",
      "Epoch 14/15\n",
      "286/286 [==============================] - 1s 3ms/step - loss: 0.6914 - accuracy: 0.5730 - val_loss: 0.6764 - val_accuracy: 0.5757\n",
      "Epoch 15/15\n",
      "286/286 [==============================] - 1s 3ms/step - loss: 0.6638 - accuracy: 0.6052 - val_loss: 0.6697 - val_accuracy: 0.6090\n",
      "72/72 [==============================] - 0s 1ms/step - loss: 0.6697 - accuracy: 0.6090\n",
      "[0.6697168350219727, 0.6090192794799805]\n"
     ]
    },
    {
     "name": "stderr",
     "output_type": "stream",
     "text": [
      "C:\\Users\\Owner\\AppData\\Roaming\\Python\\Python311\\site-packages\\keras\\src\\engine\\training.py:3000: UserWarning: You are saving your model as an HDF5 file via `model.save()`. This file format is considered legacy. We recommend using instead the native Keras format, e.g. `model.save('my_model.keras')`.\n",
      "  saving_api.save_model(\n"
     ]
    }
   ],
   "source": [
    "train_model(\"csvs/pl_X.csv\", \"built_models/keras_pl.h5\")"
   ]
  }
 ],
 "metadata": {
  "kernelspec": {
   "display_name": "Python 3",
   "language": "python",
   "name": "python3"
  },
  "language_info": {
   "codemirror_mode": {
    "name": "ipython",
    "version": 3
   },
   "file_extension": ".py",
   "mimetype": "text/x-python",
   "name": "python",
   "nbconvert_exporter": "python",
   "pygments_lexer": "ipython3",
   "version": "3.11.3"
  },
  "orig_nbformat": 4
 },
 "nbformat": 4,
 "nbformat_minor": 2
}
