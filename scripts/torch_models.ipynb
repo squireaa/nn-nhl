{
 "cells": [
  {
   "attachments": {},
   "cell_type": "markdown",
   "metadata": {},
   "source": [
    "# Implement models with PyTorch to allow for GPU cuda compatability"
   ]
  },
  {
   "cell_type": "code",
   "execution_count": 1,
   "metadata": {},
   "outputs": [],
   "source": [
    "import torch\n",
    "import torch.nn as nn\n",
    "import torch.optim as optim\n",
    "from torch.utils.data import DataLoader, TensorDataset\n",
    "from sklearn.model_selection import train_test_split\n",
    "from sklearn.preprocessing import StandardScaler\n",
    "import pandas as pd\n",
    "import numpy as np"
   ]
  },
  {
   "cell_type": "code",
   "execution_count": 5,
   "metadata": {},
   "outputs": [],
   "source": [
    "def train_model(input_name:str, output_name:str) -> None:\n",
    "    # load data\n",
    "    df = pd.read_csv(input_name)\n",
    "    X = df.drop('Outcome', axis=1)\n",
    "    y = df['Outcome']\n",
    "\n",
    "    # convert data to numpy\n",
    "    X = np.array(X)\n",
    "    y = np.array(y)\n",
    "\n",
    "    # split and scale the data\n",
    "    X_train, X_test, y_train, y_test = train_test_split(X, y, test_size=0.2)\n",
    "\n",
    "    scaler = StandardScaler()\n",
    "    X_train = scaler.fit_transform(X_train)\n",
    "    X_test = scaler.transform(X_test)\n",
    "\n",
    "    # convert data to cuda tensors\n",
    "    X_train_tensor = torch.tensor(X_train, dtype=torch.float32).cuda()\n",
    "    y_train_tensor = torch.tensor(y_train, dtype=torch.float32).cuda()\n",
    "    X_test_tensor = torch.tensor(X_test, dtype=torch.float32).cuda()\n",
    "    y_test_tensor = torch.tensor(y_test, dtype=torch.float32).cuda()\n",
    "\n",
    "    # create batches for the data to reduce noise\n",
    "    train_dataset = TensorDataset(X_train_tensor, y_train_tensor)\n",
    "    train_loader = DataLoader(train_dataset, batch_size=32, shuffle=True)\n",
    "\n",
    "    # define model (should probably use command line arguments in the future)\n",
    "    class ANN_Model(nn.Module):\n",
    "        def __init__(self, input_size):\n",
    "            super(ANN_Model, self).__init__()\n",
    "            self.fc1 = nn.Linear(input_size, 256)\n",
    "            self.fc2 = nn.Linear(256, 128)\n",
    "            self.fc3 = nn.Linear(128, 64)\n",
    "            self.fc4 = nn.Linear(64, 32)\n",
    "            self.fc5 = nn.Linear(32, 1)\n",
    "            self.relu = nn.ReLU()\n",
    "            self.dropout = nn.Dropout(0.1)\n",
    "            \n",
    "        def forward(self, x):\n",
    "            x = self.relu(self.fc1(x))\n",
    "            x = self.dropout(x)\n",
    "            x = self.relu(self.fc2(x))\n",
    "            x = self.dropout(x)\n",
    "            x = self.relu(self.fc3(x))\n",
    "            x = self.dropout(x)\n",
    "            x = self.relu(self.fc4(x))\n",
    "            x = self.dropout(x)\n",
    "            x = self.fc5(x)\n",
    "            return x\n",
    "\n",
    "    # create an instance of the model\n",
    "    model = ANN_Model(input_size=X_train.shape[1]).cuda()\n",
    "    device = torch.device(\"cuda\") # replace with \"cpu\" if this gives error\n",
    "    model.to(device)\n",
    "\n",
    "    # define the loss function and optimizer\n",
    "    loss_function = nn.BCELoss()\n",
    "    optimizer = optim.Adam(model.parameters(), lr=0.001)\n",
    "\n",
    "    # tain the model\n",
    "    num_epochs = 15\n",
    "    for epoch in range(num_epochs):\n",
    "        model.train()\n",
    "        for batch_inputs, batch_targets in train_loader:\n",
    "            # move batch to gpu\n",
    "            batch_inputs = batch_inputs.to(device)\n",
    "            batch_targets = batch_targets.to(device)\n",
    "            \n",
    "            # forward pass\n",
    "            outputs = model(batch_inputs)\n",
    "            loss = loss_function(outputs, batch_targets.unsqueeze(1))\n",
    "            \n",
    "            # backward pass\n",
    "            optimizer.zero_grad()\n",
    "            loss.backward()\n",
    "            optimizer.step()\n",
    "            \n",
    "        # print status\n",
    "        print(f\"Epoch {epoch+1}/{num_epochs}, Loss: {loss.item()}\")\n",
    "\n",
    "    # print accuracy\n",
    "    model.eval()\n",
    "    X_test_tensor = X_test_tensor.to(device)\n",
    "    y_test_tensor = y_test_tensor.to(device)\n",
    "    outputs = model(X_test_tensor)\n",
    "    predicted_labels = torch.round(torch.sigmoid(outputs))\n",
    "    accuracy = (predicted_labels == y_test_tensor.unsqueeze(1)).sum().item() / len(y_test_tensor)\n",
    "    print(f\"Accuracy: {accuracy}\")\n",
    "\n",
    "    torch.save(model.state_dict(), output_name)"
   ]
  },
  {
   "cell_type": "code",
   "execution_count": 8,
   "metadata": {},
   "outputs": [
    {
     "ename": "RuntimeError",
     "evalue": "CUDA error: device-side assert triggered\nCUDA kernel errors might be asynchronously reported at some other API call, so the stacktrace below might be incorrect.\nFor debugging consider passing CUDA_LAUNCH_BLOCKING=1.\nCompile with `TORCH_USE_CUDA_DSA` to enable device-side assertions.\n",
     "output_type": "error",
     "traceback": [
      "\u001b[1;31m---------------------------------------------------------------------------\u001b[0m",
      "\u001b[1;31mRuntimeError\u001b[0m                              Traceback (most recent call last)",
      "Cell \u001b[1;32mIn[8], line 1\u001b[0m\n\u001b[1;32m----> 1\u001b[0m train_model(\u001b[39m\"\u001b[39;49m\u001b[39mcsvs/ml_X.csv\u001b[39;49m\u001b[39m\"\u001b[39;49m, \u001b[39m\"\u001b[39;49m\u001b[39mbuilt_models/torch_ml.pth\u001b[39;49m\u001b[39m\"\u001b[39;49m)\n",
      "Cell \u001b[1;32mIn[5], line 19\u001b[0m, in \u001b[0;36mtrain_model\u001b[1;34m(input_name, output_name)\u001b[0m\n\u001b[0;32m     16\u001b[0m X_test \u001b[39m=\u001b[39m scaler\u001b[39m.\u001b[39mtransform(X_test)\n\u001b[0;32m     18\u001b[0m \u001b[39m# convert data to cuda tensors\u001b[39;00m\n\u001b[1;32m---> 19\u001b[0m X_train_tensor \u001b[39m=\u001b[39m torch\u001b[39m.\u001b[39;49mtensor(X_train, dtype\u001b[39m=\u001b[39;49mtorch\u001b[39m.\u001b[39;49mfloat32)\u001b[39m.\u001b[39;49mcuda()\n\u001b[0;32m     20\u001b[0m y_train_tensor \u001b[39m=\u001b[39m torch\u001b[39m.\u001b[39mtensor(y_train, dtype\u001b[39m=\u001b[39mtorch\u001b[39m.\u001b[39mfloat32)\u001b[39m.\u001b[39mcuda()\n\u001b[0;32m     21\u001b[0m X_test_tensor \u001b[39m=\u001b[39m torch\u001b[39m.\u001b[39mtensor(X_test, dtype\u001b[39m=\u001b[39mtorch\u001b[39m.\u001b[39mfloat32)\u001b[39m.\u001b[39mcuda()\n",
      "\u001b[1;31mRuntimeError\u001b[0m: CUDA error: device-side assert triggered\nCUDA kernel errors might be asynchronously reported at some other API call, so the stacktrace below might be incorrect.\nFor debugging consider passing CUDA_LAUNCH_BLOCKING=1.\nCompile with `TORCH_USE_CUDA_DSA` to enable device-side assertions.\n"
     ]
    }
   ],
   "source": [
    "train_model(\"csvs/ml_X.csv\", \"built_models/torch_ml.pth\")"
   ]
  },
  {
   "cell_type": "code",
   "execution_count": null,
   "metadata": {},
   "outputs": [
    {
     "name": "stdout",
     "output_type": "stream",
     "text": [
      "Epoch 1/15, Loss: 0.6916184425354004\n",
      "Epoch 2/15, Loss: 0.6932923197746277\n",
      "Epoch 3/15, Loss: 0.6967695951461792\n",
      "Epoch 4/15, Loss: 0.6956311464309692\n",
      "Epoch 5/15, Loss: 0.6896898150444031\n",
      "Epoch 6/15, Loss: 0.7005860805511475\n",
      "Epoch 7/15, Loss: 0.685490071773529\n",
      "Epoch 8/15, Loss: 0.6887855529785156\n",
      "Epoch 9/15, Loss: 0.6978492736816406\n",
      "Epoch 10/15, Loss: 0.6967654228210449\n",
      "Epoch 11/15, Loss: 0.6930269002914429\n",
      "Epoch 12/15, Loss: 0.7010118365287781\n",
      "Epoch 13/15, Loss: 0.6905204057693481\n",
      "Epoch 14/15, Loss: 0.7023320198059082\n",
      "Epoch 15/15, Loss: 0.7006088495254517\n",
      "Accuracy: 0.47809899255365745\n"
     ]
    }
   ],
   "source": [
    "train_model(\"csvs/ou_X.csv\", \"built_models/torch_ou.pth\")"
   ]
  },
  {
   "cell_type": "code",
   "execution_count": null,
   "metadata": {},
   "outputs": [
    {
     "name": "stdout",
     "output_type": "stream",
     "text": [
      "Epoch 1/15, Loss: 0.7258080840110779\n",
      "Epoch 2/15, Loss: 0.7723819613456726\n",
      "Epoch 3/15, Loss: 0.5177258253097534\n",
      "Epoch 4/15, Loss: 0.670660674571991\n",
      "Epoch 5/15, Loss: 0.6865572929382324\n",
      "Epoch 6/15, Loss: 0.6642751693725586\n",
      "Epoch 7/15, Loss: 0.6472684741020203\n",
      "Epoch 8/15, Loss: 0.6330243349075317\n",
      "Epoch 9/15, Loss: 0.6574232578277588\n",
      "Epoch 10/15, Loss: 0.7036466598510742\n",
      "Epoch 11/15, Loss: 0.3860982060432434\n",
      "Epoch 12/15, Loss: 0.6571404337882996\n",
      "Epoch 13/15, Loss: 0.4709460139274597\n",
      "Epoch 14/15, Loss: 0.32402750849723816\n",
      "Epoch 15/15, Loss: 0.4484308660030365\n",
      "Accuracy: 0.4921190893169877\n"
     ]
    }
   ],
   "source": [
    "train_model(\"csvs/pl_X.csv\", \"built_models/torch_pl.pth\")"
   ]
  }
 ],
 "metadata": {
  "kernelspec": {
   "display_name": "Python 3",
   "language": "python",
   "name": "python3"
  },
  "language_info": {
   "codemirror_mode": {
    "name": "ipython",
    "version": 3
   },
   "file_extension": ".py",
   "mimetype": "text/x-python",
   "name": "python",
   "nbconvert_exporter": "python",
   "pygments_lexer": "ipython3",
   "version": "3.11.3"
  },
  "orig_nbformat": 4
 },
 "nbformat": 4,
 "nbformat_minor": 2
}
