{
 "cells": [
  {
   "attachments": {},
   "cell_type": "markdown",
   "metadata": {},
   "source": [
    "# Implement models with PyTorch to allow for GPU cuda compatability"
   ]
  },
  {
   "cell_type": "code",
   "execution_count": 1,
   "metadata": {},
   "outputs": [],
   "source": [
    "import torch\n",
    "import torch.nn as nn\n",
    "import torch.optim as optim\n",
    "from torch.utils.data import DataLoader, TensorDataset\n",
    "from sklearn.model_selection import train_test_split\n",
    "from sklearn.preprocessing import StandardScaler\n",
    "import pandas as pd\n",
    "import numpy as np"
   ]
  },
  {
   "cell_type": "code",
   "execution_count": 2,
   "metadata": {},
   "outputs": [],
   "source": [
    "def train_model(input_name:str, output_name:str) -> None:\n",
    "    # load data\n",
    "    df = pd.read_csv(input_name)\n",
    "    X = df.drop('Outcome', axis=1)\n",
    "    y = df['Outcome']\n",
    "\n",
    "    # convert data to numpy\n",
    "    X = np.array(X)\n",
    "    y = np.array(y)\n",
    "\n",
    "    # split and scale the data\n",
    "    X_train, X_test, y_train, y_test = train_test_split(X, y, test_size=0.2)\n",
    "\n",
    "    scaler = StandardScaler()\n",
    "    X_train = scaler.fit_transform(X_train)\n",
    "    X_test = scaler.transform(X_test)\n",
    "\n",
    "    # convert data to cuda tensors\n",
    "    X_train_tensor = torch.tensor(X_train, dtype=torch.float32).cuda()\n",
    "    y_train_tensor = torch.tensor(y_train, dtype=torch.float32).cuda()\n",
    "    X_test_tensor = torch.tensor(X_test, dtype=torch.float32).cuda()\n",
    "    y_test_tensor = torch.tensor(y_test, dtype=torch.float32).cuda()\n",
    "\n",
    "    # create batches for the data to reduce noise\n",
    "    train_dataset = TensorDataset(X_train_tensor, y_train_tensor)\n",
    "    train_loader = DataLoader(train_dataset, batch_size=32, shuffle=True)\n",
    "\n",
    "    # define model (should probably use command line arguments in the future)\n",
    "    class ANN_Model(nn.Module):\n",
    "        def __init__(self, input_size):\n",
    "            super(ANN_Model, self).__init__()\n",
    "            self.fc1 = nn.Linear(input_size, 256)\n",
    "            self.fc2 = nn.Linear(256, 128)\n",
    "            self.fc3 = nn.Linear(128, 64)\n",
    "            self.fc4 = nn.Linear(64, 32)\n",
    "            self.fc5 = nn.Linear(32, 1)\n",
    "            self.relu = nn.ReLU()\n",
    "            self.dropout = nn.Dropout(0.1)\n",
    "            \n",
    "        def forward(self, x):\n",
    "            x = self.relu(self.fc1(x))\n",
    "            x = self.dropout(x)\n",
    "            x = self.relu(self.fc2(x))\n",
    "            x = self.dropout(x)\n",
    "            x = self.relu(self.fc3(x))\n",
    "            x = self.dropout(x)\n",
    "            x = self.relu(self.fc4(x))\n",
    "            x = self.dropout(x)\n",
    "            x = self.fc5(x)\n",
    "            return x\n",
    "\n",
    "    # create an instance of the model\n",
    "    model = ANN_Model(input_size=X_train.shape[1]).cuda()\n",
    "    device = torch.device(\"cuda\") # replace with \"cpu\" if this gives error\n",
    "    model.to(device)\n",
    "\n",
    "    # define the loss function and optimizer\n",
    "    loss_function = nn.BCEWithLogitsLoss()\n",
    "    optimizer = optim.Adam(model.parameters(), lr=0.001)\n",
    "\n",
    "    # tain the model\n",
    "    num_epochs = 15\n",
    "    for epoch in range(num_epochs):\n",
    "        model.train()\n",
    "        for batch_inputs, batch_targets in train_loader:\n",
    "            # move batch to gpu\n",
    "            batch_inputs = batch_inputs.to(device)\n",
    "            batch_targets = batch_targets.to(device)\n",
    "            \n",
    "            # forward pass\n",
    "            outputs = model(batch_inputs)\n",
    "            loss = loss_function(outputs, batch_targets.unsqueeze(1))\n",
    "            \n",
    "            # backward pass\n",
    "            optimizer.zero_grad()\n",
    "            loss.backward()\n",
    "            optimizer.step()\n",
    "            \n",
    "        # print status\n",
    "        print(f\"Epoch {epoch+1}/{num_epochs}, Loss: {loss.item()}\")\n",
    "\n",
    "    # print accuracy\n",
    "    model.eval()\n",
    "    X_test_tensor = X_test_tensor.to(device)\n",
    "    y_test_tensor = y_test_tensor.to(device)\n",
    "    outputs = model(X_test_tensor)\n",
    "    predicted_labels = torch.round(torch.sigmoid(outputs))\n",
    "    accuracy = (predicted_labels == y_test_tensor.unsqueeze(1)).sum().item() / len(y_test_tensor)\n",
    "    print(f\"Accuracy: {accuracy}\")\n",
    "\n",
    "    torch.save(model.state_dict(), output_name)"
   ]
  },
  {
   "cell_type": "code",
   "execution_count": 3,
   "metadata": {},
   "outputs": [
    {
     "name": "stdout",
     "output_type": "stream",
     "text": [
      "Epoch 1/15, Loss: 0.7137329578399658\n",
      "Epoch 2/15, Loss: 0.6905653476715088\n",
      "Epoch 3/15, Loss: 0.6487824320793152\n",
      "Epoch 4/15, Loss: 0.6060296297073364\n",
      "Epoch 5/15, Loss: 0.5244685411453247\n",
      "Epoch 6/15, Loss: 0.4980783760547638\n",
      "Epoch 7/15, Loss: 0.4687689244747162\n",
      "Epoch 8/15, Loss: 0.4362174868583679\n",
      "Epoch 9/15, Loss: 0.5765647888183594\n",
      "Epoch 10/15, Loss: 0.4152742624282837\n",
      "Epoch 11/15, Loss: 0.5833065509796143\n",
      "Epoch 12/15, Loss: 0.25526532530784607\n",
      "Epoch 13/15, Loss: 0.2922390401363373\n",
      "Epoch 14/15, Loss: 0.40410467982292175\n",
      "Epoch 15/15, Loss: 0.25608494877815247\n",
      "Accuracy: 0.8248303043573462\n"
     ]
    }
   ],
   "source": [
    "train_model(\"csvs/ml_X.csv\", \"built_models/torch_ml.pth\")"
   ]
  },
  {
   "cell_type": "code",
   "execution_count": 4,
   "metadata": {},
   "outputs": [
    {
     "name": "stdout",
     "output_type": "stream",
     "text": [
      "Epoch 1/15, Loss: 0.6874184012413025\n",
      "Epoch 2/15, Loss: 0.6766497492790222\n",
      "Epoch 3/15, Loss: 0.6740106344223022\n",
      "Epoch 4/15, Loss: 0.6955709457397461\n",
      "Epoch 5/15, Loss: 0.6873725652694702\n",
      "Epoch 6/15, Loss: 0.704105794429779\n",
      "Epoch 7/15, Loss: 0.7020933032035828\n",
      "Epoch 8/15, Loss: 0.684398353099823\n",
      "Epoch 9/15, Loss: 0.7021235227584839\n",
      "Epoch 10/15, Loss: 0.6944047808647156\n",
      "Epoch 11/15, Loss: 0.6892191171646118\n",
      "Epoch 12/15, Loss: 0.6837195158004761\n",
      "Epoch 13/15, Loss: 0.7019463777542114\n",
      "Epoch 14/15, Loss: 0.6887359619140625\n",
      "Epoch 15/15, Loss: 0.6758884191513062\n",
      "Accuracy: 0.5210249671484888\n"
     ]
    }
   ],
   "source": [
    "train_model(\"csvs/ou_X.csv\", \"built_models/torch_ou.pth\")"
   ]
  },
  {
   "cell_type": "code",
   "execution_count": 5,
   "metadata": {},
   "outputs": [
    {
     "name": "stdout",
     "output_type": "stream",
     "text": [
      "Epoch 1/15, Loss: 0.8619431257247925\n",
      "Epoch 2/15, Loss: 0.5576226711273193\n",
      "Epoch 3/15, Loss: 0.5900101065635681\n",
      "Epoch 4/15, Loss: 0.6315622925758362\n",
      "Epoch 5/15, Loss: 0.6693400144577026\n",
      "Epoch 6/15, Loss: 0.6567090749740601\n",
      "Epoch 7/15, Loss: 0.5545150637626648\n",
      "Epoch 8/15, Loss: 0.8072935938835144\n",
      "Epoch 9/15, Loss: 0.49366122484207153\n",
      "Epoch 10/15, Loss: 0.6074188947677612\n",
      "Epoch 11/15, Loss: 0.5078808069229126\n",
      "Epoch 12/15, Loss: 0.4914930760860443\n",
      "Epoch 13/15, Loss: 0.6793432235717773\n",
      "Epoch 14/15, Loss: 0.2949889302253723\n",
      "Epoch 15/15, Loss: 0.6146039962768555\n",
      "Accuracy: 0.5774956217162872\n"
     ]
    }
   ],
   "source": [
    "train_model(\"csvs/pl_X.csv\", \"built_models/torch_pl.pth\")"
   ]
  }
 ],
 "metadata": {
  "kernelspec": {
   "display_name": "Python 3",
   "language": "python",
   "name": "python3"
  },
  "language_info": {
   "codemirror_mode": {
    "name": "ipython",
    "version": 3
   },
   "file_extension": ".py",
   "mimetype": "text/x-python",
   "name": "python",
   "nbconvert_exporter": "python",
   "pygments_lexer": "ipython3",
   "version": "3.11.3"
  },
  "orig_nbformat": 4
 },
 "nbformat": 4,
 "nbformat_minor": 2
}
