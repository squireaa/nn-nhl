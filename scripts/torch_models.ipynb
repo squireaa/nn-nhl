{
 "cells": [
  {
   "attachments": {},
   "cell_type": "markdown",
   "metadata": {},
   "source": [
    "# Implement models with PyTorch to allow for GPU cuda compatability"
   ]
  },
  {
   "cell_type": "code",
   "execution_count": 1,
   "metadata": {},
   "outputs": [],
   "source": [
    "import torch\n",
    "import torch.nn as nn\n",
    "import torch.optim as optim\n",
    "from torch.utils.data import DataLoader, TensorDataset\n",
    "from sklearn.model_selection import train_test_split\n",
    "from sklearn.preprocessing import StandardScaler\n",
    "import pandas as pd\n",
    "import numpy as np"
   ]
  },
  {
   "cell_type": "code",
   "execution_count": 2,
   "metadata": {},
   "outputs": [],
   "source": [
    "def train_model(input_name:str, output_name:str) -> None:\n",
    "    # load data\n",
    "    df = pd.read_csv(input_name)\n",
    "    X = df.drop('Outcome', axis=1)\n",
    "    y = df['Outcome']\n",
    "\n",
    "    # convert data to numpy\n",
    "    X = np.array(X)\n",
    "    y = np.array(y)\n",
    "\n",
    "    # split and scale the data\n",
    "    X_train, X_test, y_train, y_test = train_test_split(X, y, test_size=0.2)\n",
    "\n",
    "    scaler = StandardScaler()\n",
    "    X_train = scaler.fit_transform(X_train)\n",
    "    X_test = scaler.transform(X_test)\n",
    "\n",
    "    # convert data to cuda tensors\n",
    "    X_train_tensor = torch.tensor(X_train, dtype=torch.float32).cuda()\n",
    "    y_train_tensor = torch.tensor(y_train, dtype=torch.float32).cuda()\n",
    "    X_test_tensor = torch.tensor(X_test, dtype=torch.float32).cuda()\n",
    "    y_test_tensor = torch.tensor(y_test, dtype=torch.float32).cuda()\n",
    "\n",
    "    # create batches for the data to reduce noise\n",
    "    train_dataset = TensorDataset(X_train_tensor, y_train_tensor)\n",
    "    train_loader = DataLoader(train_dataset, batch_size=32, shuffle=True)\n",
    "\n",
    "    # define model (should probably use command line arguments in the future)\n",
    "    class ANN_Model(nn.Module):\n",
    "        def __init__(self, input_size):\n",
    "            super(ANN_Model, self).__init__()\n",
    "            self.fc1 = nn.Linear(input_size, 256)\n",
    "            self.fc2 = nn.Linear(256, 128)\n",
    "            self.fc3 = nn.Linear(128, 64)\n",
    "            self.fc4 = nn.Linear(64, 32)\n",
    "            self.fc5 = nn.Linear(32, 1)\n",
    "            self.relu = nn.ReLU()\n",
    "            self.dropout = nn.Dropout(0.1)\n",
    "            \n",
    "        def forward(self, x):\n",
    "            x = self.relu(self.fc1(x))\n",
    "            x = self.dropout(x)\n",
    "            x = self.relu(self.fc2(x))\n",
    "            x = self.dropout(x)\n",
    "            x = self.relu(self.fc3(x))\n",
    "            x = self.dropout(x)\n",
    "            x = self.relu(self.fc4(x))\n",
    "            x = self.dropout(x)\n",
    "            x = self.fc5(x)\n",
    "            return x\n",
    "\n",
    "    # create an instance of the model\n",
    "    model = ANN_Model(input_size=X_train.shape[1]).cuda()\n",
    "    device = torch.device(\"cuda\") # replace with \"cpu\" if this gives error\n",
    "    model.to(device)\n",
    "\n",
    "    # define the loss function and optimizer\n",
    "    loss_function = nn.BCEWithLogitsLoss()\n",
    "    optimizer = optim.Adam(model.parameters(), lr=0.001)\n",
    "\n",
    "    # tain the model\n",
    "    num_epochs = 25\n",
    "    for epoch in range(num_epochs):\n",
    "        model.train()\n",
    "        for batch_inputs, batch_targets in train_loader:\n",
    "            # move batch to gpu\n",
    "            batch_inputs = batch_inputs.to(device)\n",
    "            batch_targets = batch_targets.to(device)\n",
    "            \n",
    "            # forward pass\n",
    "            outputs = model(batch_inputs)\n",
    "            loss = loss_function(outputs, batch_targets.unsqueeze(1))\n",
    "            \n",
    "            # backward pass\n",
    "            optimizer.zero_grad()\n",
    "            loss.backward()\n",
    "            optimizer.step()\n",
    "            \n",
    "        # print status\n",
    "        print(f\"Epoch {epoch+1}/{num_epochs}, Loss: {loss.item()}\")\n",
    "\n",
    "    # print accuracy\n",
    "    model.eval()\n",
    "    X_test_tensor = X_test_tensor.to(device)\n",
    "    y_test_tensor = y_test_tensor.to(device)\n",
    "    outputs = model(X_test_tensor)\n",
    "    predicted_labels = torch.round(torch.sigmoid(outputs))\n",
    "    accuracy = (predicted_labels == y_test_tensor.unsqueeze(1)).sum().item() / len(y_test_tensor)\n",
    "    print(f\"Accuracy: {accuracy}\")\n",
    "\n",
    "    torch.save(model.state_dict(), output_name)"
   ]
  },
  {
   "cell_type": "code",
   "execution_count": 3,
   "metadata": {},
   "outputs": [
    {
     "name": "stdout",
     "output_type": "stream",
     "text": [
      "Epoch 1/25, Loss: 0.7046518325805664\n",
      "Epoch 2/25, Loss: 0.6625663638114929\n",
      "Epoch 3/25, Loss: 0.7347057461738586\n",
      "Epoch 4/25, Loss: 0.6465087532997131\n",
      "Epoch 5/25, Loss: 0.6153339147567749\n",
      "Epoch 6/25, Loss: 0.6178532242774963\n",
      "Epoch 7/25, Loss: 0.5790522694587708\n",
      "Epoch 8/25, Loss: 0.4673384130001068\n",
      "Epoch 9/25, Loss: 0.5316528081893921\n",
      "Epoch 10/25, Loss: 0.4821819067001343\n",
      "Epoch 11/25, Loss: 0.37971585988998413\n",
      "Epoch 12/25, Loss: 0.3720305263996124\n",
      "Epoch 13/25, Loss: 0.36047109961509705\n",
      "Epoch 14/25, Loss: 0.299319863319397\n",
      "Epoch 15/25, Loss: 0.19170501828193665\n",
      "Epoch 16/25, Loss: 0.1633976548910141\n",
      "Epoch 17/25, Loss: 0.12776239216327667\n",
      "Epoch 18/25, Loss: 0.16060037910938263\n",
      "Epoch 19/25, Loss: 0.24129904806613922\n",
      "Epoch 20/25, Loss: 0.31730055809020996\n",
      "Epoch 21/25, Loss: 0.20292876660823822\n",
      "Epoch 22/25, Loss: 0.2362421751022339\n",
      "Epoch 23/25, Loss: 0.25781700015068054\n",
      "Epoch 24/25, Loss: 0.20259520411491394\n",
      "Epoch 25/25, Loss: 0.24711929261684418\n",
      "Accuracy: 0.8539522662579374\n"
     ]
    }
   ],
   "source": [
    "train_model(\"csvs/ml_X.csv\", \"built_models/torch_ml.pth\")"
   ]
  },
  {
   "cell_type": "code",
   "execution_count": 4,
   "metadata": {},
   "outputs": [
    {
     "name": "stdout",
     "output_type": "stream",
     "text": [
      "Epoch 1/25, Loss: 0.6846926212310791\n",
      "Epoch 2/25, Loss: 0.686164379119873\n",
      "Epoch 3/25, Loss: 0.6901816129684448\n",
      "Epoch 4/25, Loss: 0.7051737308502197\n",
      "Epoch 5/25, Loss: 0.6943862438201904\n",
      "Epoch 6/25, Loss: 0.6810826659202576\n",
      "Epoch 7/25, Loss: 0.6989530324935913\n",
      "Epoch 8/25, Loss: 0.6823394298553467\n",
      "Epoch 9/25, Loss: 0.6986621618270874\n",
      "Epoch 10/25, Loss: 0.6987523436546326\n",
      "Epoch 11/25, Loss: 0.7051970362663269\n",
      "Epoch 12/25, Loss: 0.6704551577568054\n",
      "Epoch 13/25, Loss: 0.7172917127609253\n",
      "Epoch 14/25, Loss: 0.7054828405380249\n",
      "Epoch 15/25, Loss: 0.6946144104003906\n",
      "Epoch 16/25, Loss: 0.6747679710388184\n",
      "Epoch 17/25, Loss: 0.7058021426200867\n",
      "Epoch 18/25, Loss: 0.6831743717193604\n",
      "Epoch 19/25, Loss: 0.687462329864502\n",
      "Epoch 20/25, Loss: 0.6935343146324158\n",
      "Epoch 21/25, Loss: 0.6808222532272339\n",
      "Epoch 22/25, Loss: 0.6937941908836365\n",
      "Epoch 23/25, Loss: 0.6975142359733582\n",
      "Epoch 24/25, Loss: 0.6904025077819824\n",
      "Epoch 25/25, Loss: 0.681022047996521\n",
      "Accuracy: 0.5304424003504161\n"
     ]
    }
   ],
   "source": [
    "train_model(\"csvs/ou_X.csv\", \"built_models/torch_ou.pth\")"
   ]
  },
  {
   "cell_type": "code",
   "execution_count": 5,
   "metadata": {},
   "outputs": [
    {
     "name": "stdout",
     "output_type": "stream",
     "text": [
      "Epoch 1/25, Loss: 0.691858172416687\n",
      "Epoch 2/25, Loss: 0.6279863119125366\n",
      "Epoch 3/25, Loss: 0.5955326557159424\n",
      "Epoch 4/25, Loss: 0.6212185621261597\n",
      "Epoch 5/25, Loss: 0.47834861278533936\n",
      "Epoch 6/25, Loss: 0.7417680025100708\n",
      "Epoch 7/25, Loss: 0.6848718523979187\n",
      "Epoch 8/25, Loss: 0.47728240489959717\n",
      "Epoch 9/25, Loss: 0.5076286196708679\n",
      "Epoch 10/25, Loss: 0.6366924047470093\n",
      "Epoch 11/25, Loss: 0.6650286912918091\n",
      "Epoch 12/25, Loss: 0.5854007005691528\n",
      "Epoch 13/25, Loss: 0.32653507590293884\n",
      "Epoch 14/25, Loss: 0.34622010588645935\n",
      "Epoch 15/25, Loss: 0.41398853063583374\n",
      "Epoch 16/25, Loss: 0.41145074367523193\n",
      "Epoch 17/25, Loss: 0.5393095016479492\n",
      "Epoch 18/25, Loss: 0.6198967099189758\n",
      "Epoch 19/25, Loss: 0.29599249362945557\n",
      "Epoch 20/25, Loss: 0.4655645787715912\n",
      "Epoch 21/25, Loss: 0.40670251846313477\n",
      "Epoch 22/25, Loss: 0.2215307056903839\n",
      "Epoch 23/25, Loss: 0.13756684958934784\n",
      "Epoch 24/25, Loss: 0.24159133434295654\n",
      "Epoch 25/25, Loss: 0.22614727914333344\n",
      "Accuracy: 0.5450963222416813\n"
     ]
    }
   ],
   "source": [
    "train_model(\"csvs/pl_X.csv\", \"built_models/torch_pl.pth\")"
   ]
  }
 ],
 "metadata": {
  "kernelspec": {
   "display_name": "Python 3",
   "language": "python",
   "name": "python3"
  },
  "language_info": {
   "codemirror_mode": {
    "name": "ipython",
    "version": 3
   },
   "file_extension": ".py",
   "mimetype": "text/x-python",
   "name": "python",
   "nbconvert_exporter": "python",
   "pygments_lexer": "ipython3",
   "version": "3.11.3"
  },
  "orig_nbformat": 4
 },
 "nbformat": 4,
 "nbformat_minor": 2
}
