{
 "cells": [
  {
   "attachments": {},
   "cell_type": "markdown",
   "metadata": {},
   "source": [
    "# Build the X datasets for each type of bet"
   ]
  },
  {
   "cell_type": "code",
   "execution_count": 1,
   "metadata": {},
   "outputs": [],
   "source": [
    "# initializes the datasets for each type of bet\n",
    "import pandas as pd\n",
    "\n",
    "# function creates n number of generic column names\n",
    "def generate_col_names(num_needed: int) -> list:\n",
    "    return ['Column' + str(i+1) for i in range(num_needed)]\n",
    "\n",
    "col_names = generate_col_names(1)\n",
    "pl_X_df = pd.DataFrame(columns=col_names)\n",
    "\n",
    "col_names = generate_col_names(502)\n",
    "ml_X_df = pd.DataFrame(columns=col_names)\n",
    "\n",
    "col_names = generate_col_names(1)\n",
    "ou_X_df = pd.DataFrame()"
   ]
  },
  {
   "cell_type": "code",
   "execution_count": 6,
   "metadata": {
    "vscode": {
     "languageId": "powershell"
    }
   },
   "outputs": [
    {
     "data": {
      "text/plain": [
       "'c:\\\\Users\\\\Owner\\\\Desktop\\\\cs stuff\\\\Open Source\\\\nn-nhl\\\\scripts'"
      ]
     },
     "execution_count": 6,
     "metadata": {},
     "output_type": "execute_result"
    }
   ],
   "source": [
    "pwd"
   ]
  },
  {
   "cell_type": "code",
   "execution_count": 8,
   "metadata": {},
   "outputs": [
    {
     "ename": "FileNotFoundError",
     "evalue": "[Errno 2] No such file or directory: 'nn-nhl/data/2022odds.csv'",
     "output_type": "error",
     "traceback": [
      "\u001b[1;31m---------------------------------------------------------------------------\u001b[0m",
      "\u001b[1;31mFileNotFoundError\u001b[0m                         Traceback (most recent call last)",
      "Cell \u001b[1;32mIn[8], line 6\u001b[0m\n\u001b[0;32m      3\u001b[0m \u001b[39mimport\u001b[39;00m \u001b[39mos\u001b[39;00m\n\u001b[0;32m      4\u001b[0m sys\u001b[39m.\u001b[39mpath\u001b[39m.\u001b[39minsert(\u001b[39m0\u001b[39m, \u001b[39m'\u001b[39m\u001b[39mC:/Users/Owner/Desktop/cs stuff/Open Source/nn-nhl/scripts/\u001b[39m\u001b[39m'\u001b[39m)\n\u001b[1;32m----> 6\u001b[0m \u001b[39mfrom\u001b[39;00m \u001b[39mgetter_methods\u001b[39;00m \u001b[39mimport\u001b[39;00m get_three_letter_code\n\u001b[0;32m      8\u001b[0m every_my_id \u001b[39m=\u001b[39m \u001b[39mlist\u001b[39m()\n\u001b[0;32m      9\u001b[0m start_year \u001b[39m=\u001b[39m \u001b[39m18\u001b[39m\n",
      "File \u001b[1;32mC:\\Users/Owner/Desktop/cs stuff/Open Source/nn-nhl/scripts\\getter_methods.py:110\u001b[0m\n\u001b[0;32m    106\u001b[0m     \u001b[39mreturn\u001b[39;00m [x \u001b[39mfor\u001b[39;00m x \u001b[39min\u001b[39;00m lst \u001b[39mif\u001b[39;00m \u001b[39mnot\u001b[39;00m \u001b[39misinstance\u001b[39m(x, \u001b[39mstr\u001b[39m)]\n\u001b[0;32m    109\u001b[0m \u001b[39m# create dataframes for all the archeived odds\u001b[39;00m\n\u001b[1;32m--> 110\u001b[0m df_2022 \u001b[39m=\u001b[39m pd\u001b[39m.\u001b[39;49mread_csv(\u001b[39m\"\u001b[39;49m\u001b[39mnn-nhl/data/2022odds.csv\u001b[39;49m\u001b[39m\"\u001b[39;49m)\n\u001b[0;32m    111\u001b[0m df_2021 \u001b[39m=\u001b[39m pd\u001b[39m.\u001b[39mread_csv(\u001b[39m\"\u001b[39m\u001b[39mnn-nhl/data/2021odds.csv\u001b[39m\u001b[39m\"\u001b[39m)\n\u001b[0;32m    112\u001b[0m df_2020 \u001b[39m=\u001b[39m pd\u001b[39m.\u001b[39mread_csv(\u001b[39m\"\u001b[39m\u001b[39mnn-nhl/data/2020odds.csv\u001b[39m\u001b[39m\"\u001b[39m)\n",
      "File \u001b[1;32mc:\\Users\\Owner\\AppData\\Local\\Programs\\Python\\Python311\\Lib\\site-packages\\pandas\\io\\parsers\\readers.py:912\u001b[0m, in \u001b[0;36mread_csv\u001b[1;34m(filepath_or_buffer, sep, delimiter, header, names, index_col, usecols, dtype, engine, converters, true_values, false_values, skipinitialspace, skiprows, skipfooter, nrows, na_values, keep_default_na, na_filter, verbose, skip_blank_lines, parse_dates, infer_datetime_format, keep_date_col, date_parser, date_format, dayfirst, cache_dates, iterator, chunksize, compression, thousands, decimal, lineterminator, quotechar, quoting, doublequote, escapechar, comment, encoding, encoding_errors, dialect, on_bad_lines, delim_whitespace, low_memory, memory_map, float_precision, storage_options, dtype_backend)\u001b[0m\n\u001b[0;32m    899\u001b[0m kwds_defaults \u001b[39m=\u001b[39m _refine_defaults_read(\n\u001b[0;32m    900\u001b[0m     dialect,\n\u001b[0;32m    901\u001b[0m     delimiter,\n\u001b[1;32m   (...)\u001b[0m\n\u001b[0;32m    908\u001b[0m     dtype_backend\u001b[39m=\u001b[39mdtype_backend,\n\u001b[0;32m    909\u001b[0m )\n\u001b[0;32m    910\u001b[0m kwds\u001b[39m.\u001b[39mupdate(kwds_defaults)\n\u001b[1;32m--> 912\u001b[0m \u001b[39mreturn\u001b[39;00m _read(filepath_or_buffer, kwds)\n",
      "File \u001b[1;32mc:\\Users\\Owner\\AppData\\Local\\Programs\\Python\\Python311\\Lib\\site-packages\\pandas\\io\\parsers\\readers.py:577\u001b[0m, in \u001b[0;36m_read\u001b[1;34m(filepath_or_buffer, kwds)\u001b[0m\n\u001b[0;32m    574\u001b[0m _validate_names(kwds\u001b[39m.\u001b[39mget(\u001b[39m\"\u001b[39m\u001b[39mnames\u001b[39m\u001b[39m\"\u001b[39m, \u001b[39mNone\u001b[39;00m))\n\u001b[0;32m    576\u001b[0m \u001b[39m# Create the parser.\u001b[39;00m\n\u001b[1;32m--> 577\u001b[0m parser \u001b[39m=\u001b[39m TextFileReader(filepath_or_buffer, \u001b[39m*\u001b[39;49m\u001b[39m*\u001b[39;49mkwds)\n\u001b[0;32m    579\u001b[0m \u001b[39mif\u001b[39;00m chunksize \u001b[39mor\u001b[39;00m iterator:\n\u001b[0;32m    580\u001b[0m     \u001b[39mreturn\u001b[39;00m parser\n",
      "File \u001b[1;32mc:\\Users\\Owner\\AppData\\Local\\Programs\\Python\\Python311\\Lib\\site-packages\\pandas\\io\\parsers\\readers.py:1407\u001b[0m, in \u001b[0;36mTextFileReader.__init__\u001b[1;34m(self, f, engine, **kwds)\u001b[0m\n\u001b[0;32m   1404\u001b[0m     \u001b[39mself\u001b[39m\u001b[39m.\u001b[39moptions[\u001b[39m\"\u001b[39m\u001b[39mhas_index_names\u001b[39m\u001b[39m\"\u001b[39m] \u001b[39m=\u001b[39m kwds[\u001b[39m\"\u001b[39m\u001b[39mhas_index_names\u001b[39m\u001b[39m\"\u001b[39m]\n\u001b[0;32m   1406\u001b[0m \u001b[39mself\u001b[39m\u001b[39m.\u001b[39mhandles: IOHandles \u001b[39m|\u001b[39m \u001b[39mNone\u001b[39;00m \u001b[39m=\u001b[39m \u001b[39mNone\u001b[39;00m\n\u001b[1;32m-> 1407\u001b[0m \u001b[39mself\u001b[39m\u001b[39m.\u001b[39m_engine \u001b[39m=\u001b[39m \u001b[39mself\u001b[39;49m\u001b[39m.\u001b[39;49m_make_engine(f, \u001b[39mself\u001b[39;49m\u001b[39m.\u001b[39;49mengine)\n",
      "File \u001b[1;32mc:\\Users\\Owner\\AppData\\Local\\Programs\\Python\\Python311\\Lib\\site-packages\\pandas\\io\\parsers\\readers.py:1661\u001b[0m, in \u001b[0;36mTextFileReader._make_engine\u001b[1;34m(self, f, engine)\u001b[0m\n\u001b[0;32m   1659\u001b[0m     \u001b[39mif\u001b[39;00m \u001b[39m\"\u001b[39m\u001b[39mb\u001b[39m\u001b[39m\"\u001b[39m \u001b[39mnot\u001b[39;00m \u001b[39min\u001b[39;00m mode:\n\u001b[0;32m   1660\u001b[0m         mode \u001b[39m+\u001b[39m\u001b[39m=\u001b[39m \u001b[39m\"\u001b[39m\u001b[39mb\u001b[39m\u001b[39m\"\u001b[39m\n\u001b[1;32m-> 1661\u001b[0m \u001b[39mself\u001b[39m\u001b[39m.\u001b[39mhandles \u001b[39m=\u001b[39m get_handle(\n\u001b[0;32m   1662\u001b[0m     f,\n\u001b[0;32m   1663\u001b[0m     mode,\n\u001b[0;32m   1664\u001b[0m     encoding\u001b[39m=\u001b[39;49m\u001b[39mself\u001b[39;49m\u001b[39m.\u001b[39;49moptions\u001b[39m.\u001b[39;49mget(\u001b[39m\"\u001b[39;49m\u001b[39mencoding\u001b[39;49m\u001b[39m\"\u001b[39;49m, \u001b[39mNone\u001b[39;49;00m),\n\u001b[0;32m   1665\u001b[0m     compression\u001b[39m=\u001b[39;49m\u001b[39mself\u001b[39;49m\u001b[39m.\u001b[39;49moptions\u001b[39m.\u001b[39;49mget(\u001b[39m\"\u001b[39;49m\u001b[39mcompression\u001b[39;49m\u001b[39m\"\u001b[39;49m, \u001b[39mNone\u001b[39;49;00m),\n\u001b[0;32m   1666\u001b[0m     memory_map\u001b[39m=\u001b[39;49m\u001b[39mself\u001b[39;49m\u001b[39m.\u001b[39;49moptions\u001b[39m.\u001b[39;49mget(\u001b[39m\"\u001b[39;49m\u001b[39mmemory_map\u001b[39;49m\u001b[39m\"\u001b[39;49m, \u001b[39mFalse\u001b[39;49;00m),\n\u001b[0;32m   1667\u001b[0m     is_text\u001b[39m=\u001b[39;49mis_text,\n\u001b[0;32m   1668\u001b[0m     errors\u001b[39m=\u001b[39;49m\u001b[39mself\u001b[39;49m\u001b[39m.\u001b[39;49moptions\u001b[39m.\u001b[39;49mget(\u001b[39m\"\u001b[39;49m\u001b[39mencoding_errors\u001b[39;49m\u001b[39m\"\u001b[39;49m, \u001b[39m\"\u001b[39;49m\u001b[39mstrict\u001b[39;49m\u001b[39m\"\u001b[39;49m),\n\u001b[0;32m   1669\u001b[0m     storage_options\u001b[39m=\u001b[39;49m\u001b[39mself\u001b[39;49m\u001b[39m.\u001b[39;49moptions\u001b[39m.\u001b[39;49mget(\u001b[39m\"\u001b[39;49m\u001b[39mstorage_options\u001b[39;49m\u001b[39m\"\u001b[39;49m, \u001b[39mNone\u001b[39;49;00m),\n\u001b[0;32m   1670\u001b[0m )\n\u001b[0;32m   1671\u001b[0m \u001b[39massert\u001b[39;00m \u001b[39mself\u001b[39m\u001b[39m.\u001b[39mhandles \u001b[39mis\u001b[39;00m \u001b[39mnot\u001b[39;00m \u001b[39mNone\u001b[39;00m\n\u001b[0;32m   1672\u001b[0m f \u001b[39m=\u001b[39m \u001b[39mself\u001b[39m\u001b[39m.\u001b[39mhandles\u001b[39m.\u001b[39mhandle\n",
      "File \u001b[1;32mc:\\Users\\Owner\\AppData\\Local\\Programs\\Python\\Python311\\Lib\\site-packages\\pandas\\io\\common.py:859\u001b[0m, in \u001b[0;36mget_handle\u001b[1;34m(path_or_buf, mode, encoding, compression, memory_map, is_text, errors, storage_options)\u001b[0m\n\u001b[0;32m    854\u001b[0m \u001b[39melif\u001b[39;00m \u001b[39misinstance\u001b[39m(handle, \u001b[39mstr\u001b[39m):\n\u001b[0;32m    855\u001b[0m     \u001b[39m# Check whether the filename is to be opened in binary mode.\u001b[39;00m\n\u001b[0;32m    856\u001b[0m     \u001b[39m# Binary mode does not support 'encoding' and 'newline'.\u001b[39;00m\n\u001b[0;32m    857\u001b[0m     \u001b[39mif\u001b[39;00m ioargs\u001b[39m.\u001b[39mencoding \u001b[39mand\u001b[39;00m \u001b[39m\"\u001b[39m\u001b[39mb\u001b[39m\u001b[39m\"\u001b[39m \u001b[39mnot\u001b[39;00m \u001b[39min\u001b[39;00m ioargs\u001b[39m.\u001b[39mmode:\n\u001b[0;32m    858\u001b[0m         \u001b[39m# Encoding\u001b[39;00m\n\u001b[1;32m--> 859\u001b[0m         handle \u001b[39m=\u001b[39m \u001b[39mopen\u001b[39m(\n\u001b[0;32m    860\u001b[0m             handle,\n\u001b[0;32m    861\u001b[0m             ioargs\u001b[39m.\u001b[39mmode,\n\u001b[0;32m    862\u001b[0m             encoding\u001b[39m=\u001b[39mioargs\u001b[39m.\u001b[39mencoding,\n\u001b[0;32m    863\u001b[0m             errors\u001b[39m=\u001b[39merrors,\n\u001b[0;32m    864\u001b[0m             newline\u001b[39m=\u001b[39m\u001b[39m\"\u001b[39m\u001b[39m\"\u001b[39m,\n\u001b[0;32m    865\u001b[0m         )\n\u001b[0;32m    866\u001b[0m     \u001b[39melse\u001b[39;00m:\n\u001b[0;32m    867\u001b[0m         \u001b[39m# Binary mode\u001b[39;00m\n\u001b[0;32m    868\u001b[0m         handle \u001b[39m=\u001b[39m \u001b[39mopen\u001b[39m(handle, ioargs\u001b[39m.\u001b[39mmode)\n",
      "\u001b[1;31mFileNotFoundError\u001b[0m: [Errno 2] No such file or directory: 'nn-nhl/data/2022odds.csv'"
     ]
    }
   ],
   "source": [
    "# generates a list of every my_id for every game from the start to the end year\n",
    "import sys  \n",
    "import os\n",
    "sys.path.insert(0, 'C:/Users/Owner/Desktop/cs_stuff/Open Source/nn-nhl/scripts/')\n",
    "\n",
    "from getter_methods import get_three_letter_code\n",
    "\n",
    "every_my_id = list()\n",
    "start_year = 18\n",
    "end_year = 23\n",
    "for year in range(start_year, end_year):\n",
    "    print(os.getcwd())\n",
    "    file_path = f\"data/adv_20{year}.csv\"\n",
    "    df = pd.read_csv(file_path)\n",
    "\n",
    "    num_rows = len(df)\n",
    "    for i in range(num_rows):\n",
    "        team_abv = get_three_letter_code(df['Team'].iloc[i])\n",
    "        date = df['Date'].iloc[i]\n",
    "        every_my_id.append(f\"{team_abv}-{date}\")"
   ]
  },
  {
   "cell_type": "code",
   "execution_count": null,
   "metadata": {},
   "outputs": [],
   "source": [
    "from getter_methods import get_last_n, get_rest_days, get_year\n",
    "\n",
    "# this function returns the data to be used in a single row for all the adv metrics\n",
    "def get_main_metrics(my_id: str) -> list:\n",
    "    to_return = []\n",
    "    to_return.extend(get_last_n(my_id, 1))\n",
    "    to_return.extend(get_last_n(my_id, 3))\n",
    "    to_return.extend(get_last_n(my_id, 5))\n",
    "    to_return.extend(get_last_n(my_id, 10))\n",
    "    to_return.extend([get_rest_days(my_id)])\n",
    "    to_return.extend([get_year(my_id)])\n",
    "    return to_return"
   ]
  },
  {
   "cell_type": "code",
   "execution_count": null,
   "metadata": {},
   "outputs": [],
   "source": [
    "from getter_methods import get_open_ml, get_close_ml\n",
    "\n",
    "# this loop creates the full X dataset for the ml\n",
    "ml_index = 0\n",
    "\n",
    "num_of_ids = len(every_my_id)\n",
    "for i in range(0, num_of_ids, 2):\n",
    "    try:\n",
    "        team1_id = every_my_id[i]\n",
    "        team2_id = every_my_id[i + 1]\n",
    "\n",
    "        team1_metrics = get_main_metrics(team1_id)\n",
    "        team2_metrics = get_main_metrics(team2_id)\n",
    "\n",
    "        team1_open_ml = get_open_ml(team1_id)\n",
    "        team2_open_ml = get_open_ml(team2_id)\n",
    "        team1_close_ml = get_close_ml(team1_id)\n",
    "        team2_close_ml = get_close_ml(team2_id)\n",
    "\n",
    "        ml_row_1 = team1_metrics + team2_metrics + team1_open_ml\n",
    "        ml_row_2 = team1_metrics + team2_metrics + team1_close_ml\n",
    "        ml_row_3 = team2_metrics + team1_metrics + team2_open_ml\n",
    "        ml_row_4 = team2_metrics + team1_metrics + team2_close_ml\n",
    "\n",
    "        ml_X_df.loc[ml_index] = ml_row_1\n",
    "        ml_index += 1\n",
    "        ml_X_df.loc[ml_index] = ml_row_2\n",
    "        ml_index += 1\n",
    "        ml_X_df.loc[ml_index] = ml_row_3\n",
    "        ml_index += 1\n",
    "        ml_X_df.loc[ml_index] = ml_row_4\n",
    "        ml_index += 1\n",
    "    except:\n",
    "        pass\n",
    "\n",
    "    print(f\"{int(i / 2)}/{int(num_of_ids / 2)}\")\n",
    "\n",
    "ml_X_df = ml_X_df.dropna()\n",
    "ml_X_df.to_csv(\"ml_X.csv\")"
   ]
  },
  {
   "cell_type": "code",
   "execution_count": null,
   "metadata": {},
   "outputs": [],
   "source": [
    "from getter_methods import get_puck_line, get_puck_line_odds\n",
    "\n",
    "pl_index = 0\n",
    "\n",
    "num_of_ids = len(every_my_id)\n",
    "for i in range(0, num_of_ids, 2):\n",
    "    try:\n",
    "        team1_id = every_my_id[i]\n",
    "        team2_id = every_my_id[i + 1]\n",
    "\n",
    "        team1_metrics = get_main_metrics(team1_id)\n",
    "        team2_metrics = get_main_metrics(team2_id)\n",
    "\n",
    "        team1_odds = get_puck_line_odds(team1_id)\n",
    "        team2_odds = get_puck_line_odds(team2_id)\n",
    "\n",
    "        team1_line = get_puck_line(team1_id)\n",
    "        team2_line = get_puck_line(team2_id)\n",
    "\n",
    "        pl_row_1 = team1_metrics + team2_metrics + team1_odds + team1_line\n",
    "        pl_row_2 = team1_metrics + team2_metrics + team2_odds + team2_line\n",
    "        print(len(pl_row_1))\n",
    "\n",
    "        pl_X_df.loc[pl_index] = pl_row_1\n",
    "        pl_index += 1\n",
    "        pl_X_df.loc[pl_index] = pl_row_2\n",
    "        pl_index += 1\n",
    "    except:\n",
    "        pass\n",
    "\n",
    "    print(f\"{int(i / 2)}/{int(num_of_ids / 2)}\")\n",
    "\n",
    "pl_X_df = pl_X_df.dropna()\n",
    "pl_X_df.to_csv(\"pl_X.csv\")"
   ]
  }
 ],
 "metadata": {
  "kernelspec": {
   "display_name": "Python 3",
   "language": "python",
   "name": "python3"
  },
  "language_info": {
   "codemirror_mode": {
    "name": "ipython",
    "version": 3
   },
   "file_extension": ".py",
   "mimetype": "text/x-python",
   "name": "python",
   "nbconvert_exporter": "python",
   "pygments_lexer": "ipython3",
   "version": "3.11.4"
  },
  "orig_nbformat": 4
 },
 "nbformat": 4,
 "nbformat_minor": 2
}
